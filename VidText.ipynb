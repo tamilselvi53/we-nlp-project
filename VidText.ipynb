{
 "cells": [
  {
   "cell_type": "code",
   "execution_count": 1,
   "id": "25e33dee",
   "metadata": {},
   "outputs": [
    {
     "ename": "ModuleNotFoundError",
     "evalue": "No module named 'pytube'",
     "output_type": "error",
     "traceback": [
      "\u001b[1;31m---------------------------------------------------------------------------\u001b[0m",
      "\u001b[1;31mModuleNotFoundError\u001b[0m                       Traceback (most recent call last)",
      "\u001b[1;32m<ipython-input-1-6aeef23a64b8>\u001b[0m in \u001b[0;36m<module>\u001b[1;34m\u001b[0m\n\u001b[1;32m----> 1\u001b[1;33m \u001b[1;32mfrom\u001b[0m \u001b[0mpytube\u001b[0m \u001b[1;32mimport\u001b[0m \u001b[0mYouTube\u001b[0m\u001b[1;33m\u001b[0m\u001b[1;33m\u001b[0m\u001b[0m\n\u001b[0m\u001b[0;32m      2\u001b[0m \u001b[1;33m\u001b[0m\u001b[0m\n\u001b[0;32m      3\u001b[0m \u001b[1;32mimport\u001b[0m \u001b[0mmoviepy\u001b[0m\u001b[1;33m.\u001b[0m\u001b[0meditor\u001b[0m \u001b[1;32mas\u001b[0m \u001b[0mmp\u001b[0m\u001b[1;33m\u001b[0m\u001b[1;33m\u001b[0m\u001b[0m\n\u001b[0;32m      4\u001b[0m \u001b[1;33m\u001b[0m\u001b[0m\n\u001b[0;32m      5\u001b[0m \u001b[1;32mimport\u001b[0m \u001b[0msumy\u001b[0m\u001b[1;33m\u001b[0m\u001b[1;33m\u001b[0m\u001b[0m\n",
      "\u001b[1;31mModuleNotFoundError\u001b[0m: No module named 'pytube'"
     ]
    }
   ],
   "source": [
    "from youtube_dl import YoutubeDL\n",
    "\n",
    "import moviepy.editor as mp\n",
    "\n",
    "import sumy\n",
    "from sumy.parsers.plaintext import PlaintextParser\n",
    "from sumy.nlp.tokenizers import Tokenizer\n",
    "import nltk\n",
    "from sumy.summarizers.lsa import LsaSummarizer\n",
    "\n",
    "from deep_translator import GoogleTranslator\n",
    "from bs4 import BeautifulSoup\n",
    "import requests\n",
    "\n",
    "import IPython\n",
    "import noisereduce as nr\n",
    "import soundfile as sf\n",
    "from noisereduce.generate_noise import band_limited_noise\n",
    "import urllib.request\n",
    "import io\n",
    "\n",
    "import os"
   ]
  },
  {
   "cell_type": "code",
   "execution_count": 7,
   "id": "85fdeb7e",
   "metadata": {},
   "outputs": [],
   "source": [
    "def youtubeLink_video(video_link, save_path='extracted_video.mp4'):\n",
    "    try: \n",
    "        with YoutubeDL({'format':'bestaudio', 'outtmpl': 'audio'}) as ydl:\n",
    "            audio = ydl.extract_info(video_link)\n",
    "    except: \n",
    "        print(\"Sry servers are full now!\") "
   ]
  },
  {
   "cell_type": "code",
   "execution_count": 8,
   "id": "961c8dd5",
   "metadata": {},
   "outputs": [],
   "source": [
    "youtubeLink_video(\"https://www.youtube.com/watch?v=vP4iY1TtS3s\")"
   ]
  },
  {
   "cell_type": "code",
   "execution_count": 11,
   "id": "4f80bf48",
   "metadata": {},
   "outputs": [],
   "source": [
    "def audio_extraction(video_path, save_path=\"extracted_audio.wav\"):\n",
    "    clip = mp.VideoFileClip(video_path)\n",
    "    clip.audio.write_audiofile(save_path)"
   ]
  },
  {
   "cell_type": "code",
   "execution_count": 13,
   "id": "4fbe2dbe",
   "metadata": {},
   "outputs": [
    {
     "name": "stdout",
     "output_type": "stream",
     "text": [
      "MoviePy - Writing audio in extracted_audio.wav\n"
     ]
    },
    {
     "name": "stderr",
     "output_type": "stream",
     "text": [
      "                                                                                                                       "
     ]
    },
    {
     "name": "stdout",
     "output_type": "stream",
     "text": [
      "MoviePy - Done.\n"
     ]
    },
    {
     "name": "stderr",
     "output_type": "stream",
     "text": [
      "\r"
     ]
    }
   ],
   "source": [
    "audio_extraction('C:/Users/Nimisha/Desktop/Programs/WE/we-project1/nlp-project/extracted_video.mp4/I Have a Dream speech by Martin Luther King Jr HD (subtitled).mp4')"
   ]
  },
  {
   "cell_type": "code",
   "execution_count": null,
   "id": "3fbe0218",
   "metadata": {},
   "outputs": [],
   "source": [
    "# speech to text\n",
    "os.environ['GOOGLE_APPLICATION_CREDENTIALS'] = os.path.join(os.getcwd(),\"speechtotext-329110-21d3821f64eb.json\")\n",
    "\n",
    "def transcribe_file(speech_file):\n",
    "    \"\"\"Transcribe the given audio file.\"\"\"\n",
    "    from google.cloud import speech\n",
    "    import io\n",
    "\n",
    "    client = speech.SpeechClient()\n",
    "\n",
    "    with io.open(speech_file, \"rb\") as audio_file:\n",
    "        content = audio_file.read()\n",
    "\n",
    "    audio = speech.RecognitionAudio(content=content)\n",
    "    config = speech.RecognitionConfig(\n",
    "        encoding=speech.RecognitionConfig.AudioEncoding.LINEAR16,\n",
    "        language_code=\"en-US\",\n",
    "    )\n",
    "\n",
    "    response = client.recognize(config=config, audio=audio)\n",
    "\n",
    "    # Each result is for a consecutive portion of the audio. Iterate through\n",
    "    # them to get the transcripts for the entire audio file.\n",
    "    f = open(speech_file+\".txt\", \"w\")\n",
    "    for result in response.results:\n",
    "        f.write(result.alternatives[0].transcript + \"\\n\")\n",
    "        # The first alternative is the most likely one for this portion.\n",
    "        print(u\"{}\".format(result.alternatives[0].transcript))\n",
    "    f.close()"
   ]
  },
  {
   "cell_type": "code",
   "execution_count": null,
   "id": "a981be60",
   "metadata": {},
   "outputs": [],
   "source": [
    "def text_summarization(PATH):\n",
    "    nltk.download('punkt')\n",
    "    with open(PATH, 'r', encoding=\"utf8\") as file:\n",
    "        text = file.read().splitlines()\n",
    "        no_of_lines = len(text) // 3\n",
    "        text = ' '.join(text)\n",
    "\n",
    "    my_parser = PlaintextParser.from_string(text, Tokenizer('english'))\n",
    "    \n",
    "    lsa_summarizer = LsaSummarizer()\n",
    "    lsa_summary = lsa_summarizer(my_parser.document, no_of_lines)\n",
    "\n",
    "    with open(\"Output.txt\", \"w\") as text_file:\n",
    "        for sentence in lsa_summary:\n",
    "            print(sentence, file=text_file)"
   ]
  },
  {
   "cell_type": "code",
   "execution_count": 3,
   "id": "c9155a79",
   "metadata": {},
   "outputs": [],
   "source": [
    "# Languages for translation\n",
    "url='https://developers.google.com/admin-sdk/directory/v1/languages'\n",
    "\n",
    "html_content = requests.get(url).text\n",
    "\n",
    "soup = BeautifulSoup(html_content, \"lxml\")\n",
    "\n",
    "s = list(filter(('').__ne__, soup.table.text.split('\\n')))\n",
    "\n",
    "code = [i for j, i in enumerate(s) if j % 2 != 0][1:]\n",
    "name = [i for j, i in enumerate(s) if j % 2 == 0][1:]\n",
    "\n",
    "languages = dict(zip(name, code))"
   ]
  },
  {
   "cell_type": "code",
   "execution_count": null,
   "id": "750737c6",
   "metadata": {},
   "outputs": [],
   "source": [
    "def text_translation(text, language='tamil'):\n",
    "    with open(text, encoding=\"utf8\") as f:\n",
    "        lines = f.read().splitlines()\n",
    "    \n",
    "    lines = ' '.join(lines)\n",
    "\n",
    "    translated_text = GoogleTranslator(source='auto', target=language).translate(lines)\n",
    "    return translated_text  "
   ]
  },
  {
   "cell_type": "code",
   "execution_count": null,
   "id": "6d065777",
   "metadata": {},
   "outputs": [],
   "source": [
    "def audio_encoding(url):\n",
    "    response = urllib.request.urlopen(url)\n",
    "    data, rate = sf.read(io.BytesIO(response.read()))\n",
    "    return data, rate\n",
    "    \n",
    "def add_noise(data, rate):\n",
    "    noise = band_limited_noise(min_freq = 2000, max_freq = 12000, samples = len(data), samplerate = rate) * 10\n",
    "    return data + noise\n",
    "\n",
    "def audio_without_noise(data, rate):\n",
    "    reduced_noise = nr.reduce_noise(y = add_noise(), sr = rate, n_std_thresh_stationary = 1.5, stationary = True)\n",
    "    return reduced_noise\n",
    "\n",
    "def background_noice_removal():\n",
    "    data, rate = audio_encoding(url)\n",
    "    IPython.display.Audio(data = audio_without_noise(data, rate), rate = rate)"
   ]
  }
 ],
 "metadata": {
  "kernelspec": {
   "display_name": "Python 3",
   "language": "python",
   "name": "python3"
  }
 },
 "nbformat": 4,
 "nbformat_minor": 5
}
